{
 "cells": [
  {
   "cell_type": "markdown",
   "metadata": {},
   "source": [
    "# What does roll do in numpy and pytorch?"
   ]
  },
  {
   "cell_type": "markdown",
   "metadata": {},
   "source": [
    "Rolling in numpy or pytorch moves the data in a circle on a particular axis. Let's look at some examples."
   ]
  },
  {
   "cell_type": "code",
   "execution_count": 1,
   "metadata": {},
   "outputs": [],
   "source": [
    "import numpy as np\n",
    "import torch"
   ]
  },
  {
   "cell_type": "markdown",
   "metadata": {},
   "source": [
    "## Roll in Numpy"
   ]
  },
  {
   "cell_type": "markdown",
   "metadata": {},
   "source": [
    "Suppose we have a 6x8 matrix in numpy. We can initialize it for clarity like so."
   ]
  },
  {
   "cell_type": "code",
   "execution_count": 2,
   "metadata": {},
   "outputs": [
    {
     "data": {
      "text/plain": [
       "array([[0., 1., 2., 3., 4., 5., 6., 7.],\n",
       "       [0., 1., 2., 3., 4., 5., 6., 7.],\n",
       "       [0., 1., 2., 3., 4., 5., 6., 7.],\n",
       "       [0., 1., 2., 3., 4., 5., 6., 7.],\n",
       "       [0., 1., 2., 3., 4., 5., 6., 7.],\n",
       "       [0., 1., 2., 3., 4., 5., 6., 7.]])"
      ]
     },
     "execution_count": 2,
     "metadata": {},
     "output_type": "execute_result"
    }
   ],
   "source": [
    "state = np.zeros((6, 8))\n",
    "for i in range(6):\n",
    "    for j in range(8):\n",
    "        state[i][j] = j\n",
    "state"
   ]
  },
  {
   "cell_type": "markdown",
   "metadata": {},
   "source": [
    "We can then roll it leftward (indicated by -1) along the horizontal axis (axis 1). The zeroes which would have been shifted off the beginning of each array are now at the end."
   ]
  },
  {
   "cell_type": "code",
   "execution_count": 3,
   "metadata": {},
   "outputs": [
    {
     "data": {
      "text/plain": [
       "array([[1., 2., 3., 4., 5., 6., 7., 0.],\n",
       "       [1., 2., 3., 4., 5., 6., 7., 0.],\n",
       "       [1., 2., 3., 4., 5., 6., 7., 0.],\n",
       "       [1., 2., 3., 4., 5., 6., 7., 0.],\n",
       "       [1., 2., 3., 4., 5., 6., 7., 0.],\n",
       "       [1., 2., 3., 4., 5., 6., 7., 0.]])"
      ]
     },
     "execution_count": 3,
     "metadata": {},
     "output_type": "execute_result"
    }
   ],
   "source": [
    "state = np.roll(state, -1, axis=1); state"
   ]
  },
  {
   "cell_type": "markdown",
   "metadata": {},
   "source": [
    "Why might we want to do this? Suppose this is some sort of time series data and we are getting rid of the oldest elements, which are kept on the left. We could then replace the newest fields with the latest data like so:"
   ]
  },
  {
   "cell_type": "code",
   "execution_count": 4,
   "metadata": {},
   "outputs": [
    {
     "data": {
      "text/plain": [
       "array([[1., 2., 3., 4., 5., 6., 7., 8.],\n",
       "       [1., 2., 3., 4., 5., 6., 7., 8.],\n",
       "       [1., 2., 3., 4., 5., 6., 7., 8.],\n",
       "       [1., 2., 3., 4., 5., 6., 7., 8.],\n",
       "       [1., 2., 3., 4., 5., 6., 7., 8.],\n",
       "       [1., 2., 3., 4., 5., 6., 7., 8.]])"
      ]
     },
     "execution_count": 4,
     "metadata": {},
     "output_type": "execute_result"
    }
   ],
   "source": [
    "for i in range(6):\n",
    "    state[i][-1] = 8\n",
    "state"
   ]
  },
  {
   "cell_type": "markdown",
   "metadata": {},
   "source": [
    "The zeroes were the oldest, so we got rid of them, and now we have the newest \"8\" data on the right. \n",
    "\n",
    "I've seen this done sometimes in reinforcement learning settings, where someone wants to put together state data with time frames. \n",
    "\n",
    "You can see an example of it using numpy [here](https://github.com/hongzimao/pensieve/blob/1120bb173958dc9bc9f2ebff1a8fe688b6f4e93c/sim/multi_agent.py#L276)."
   ]
  },
  {
   "cell_type": "markdown",
   "metadata": {},
   "source": [
    "## Roll in Pytorch"
   ]
  },
  {
   "cell_type": "markdown",
   "metadata": {},
   "source": [
    "We can do something similarly in pytorch. Let's reininitialize the state as a pytorch tensor and see an example."
   ]
  },
  {
   "cell_type": "code",
   "execution_count": 5,
   "metadata": {},
   "outputs": [
    {
     "data": {
      "text/plain": [
       "tensor([[0., 1., 2., 3., 4., 5., 6., 7.],\n",
       "        [0., 1., 2., 3., 4., 5., 6., 7.],\n",
       "        [0., 1., 2., 3., 4., 5., 6., 7.],\n",
       "        [0., 1., 2., 3., 4., 5., 6., 7.],\n",
       "        [0., 1., 2., 3., 4., 5., 6., 7.],\n",
       "        [0., 1., 2., 3., 4., 5., 6., 7.]])"
      ]
     },
     "execution_count": 5,
     "metadata": {},
     "output_type": "execute_result"
    }
   ],
   "source": [
    "state = torch.zeros((6, 8))\n",
    "for i in range(6):\n",
    "    for j in range(8):\n",
    "        state[i, j] = j\n",
    "state"
   ]
  },
  {
   "cell_type": "markdown",
   "metadata": {},
   "source": [
    "The syntax is slightly different, but the effect is the same."
   ]
  },
  {
   "cell_type": "code",
   "execution_count": 6,
   "metadata": {},
   "outputs": [
    {
     "data": {
      "text/plain": [
       "tensor([[1., 2., 3., 4., 5., 6., 7., 0.],\n",
       "        [1., 2., 3., 4., 5., 6., 7., 0.],\n",
       "        [1., 2., 3., 4., 5., 6., 7., 0.],\n",
       "        [1., 2., 3., 4., 5., 6., 7., 0.],\n",
       "        [1., 2., 3., 4., 5., 6., 7., 0.],\n",
       "        [1., 2., 3., 4., 5., 6., 7., 0.]])"
      ]
     },
     "execution_count": 6,
     "metadata": {},
     "output_type": "execute_result"
    }
   ],
   "source": [
    "state = torch.roll(state, -1, dims=-1)\n",
    "state"
   ]
  },
  {
   "cell_type": "markdown",
   "metadata": {},
   "source": [
    "Similarly, if we were working with time series state data, we could replace the last index with something new."
   ]
  },
  {
   "cell_type": "code",
   "execution_count": 7,
   "metadata": {},
   "outputs": [
    {
     "data": {
      "text/plain": [
       "tensor([[1., 2., 3., 4., 5., 6., 7., 8.],\n",
       "        [1., 2., 3., 4., 5., 6., 7., 8.],\n",
       "        [1., 2., 3., 4., 5., 6., 7., 8.],\n",
       "        [1., 2., 3., 4., 5., 6., 7., 8.],\n",
       "        [1., 2., 3., 4., 5., 6., 7., 8.],\n",
       "        [1., 2., 3., 4., 5., 6., 7., 8.]])"
      ]
     },
     "execution_count": 7,
     "metadata": {},
     "output_type": "execute_result"
    }
   ],
   "source": [
    "for i in range(6):\n",
    "    for j in range(8):\n",
    "        state[i][-1] = 8\n",
    "state"
   ]
  },
  {
   "cell_type": "markdown",
   "metadata": {},
   "source": [
    "[Here is a pytorch implementation example](https://github.com/linnaeushuang/pensieve-pytorch/blob/1c81f9bdcd405b6df417a7b40e18bdd47e74f507/pensieve_torch.py#L206) of the previous code, doing the same thing to the state:"
   ]
  },
  {
   "cell_type": "markdown",
   "metadata": {},
   "source": [
    "## Rolling Manually in numpy"
   ]
  },
  {
   "cell_type": "markdown",
   "metadata": {},
   "source": [
    "I've also seen folks use a similar strategy, but using manual indexing. Here is an example of that in numpy."
   ]
  },
  {
   "cell_type": "code",
   "execution_count": 8,
   "metadata": {},
   "outputs": [
    {
     "data": {
      "text/plain": [
       "array([[0., 1., 2., 3., 4., 5., 6., 7.],\n",
       "       [0., 1., 2., 3., 4., 5., 6., 7.],\n",
       "       [0., 1., 2., 3., 4., 5., 6., 7.],\n",
       "       [0., 1., 2., 3., 4., 5., 6., 7.],\n",
       "       [0., 1., 2., 3., 4., 5., 6., 7.],\n",
       "       [0., 1., 2., 3., 4., 5., 6., 7.]])"
      ]
     },
     "execution_count": 8,
     "metadata": {},
     "output_type": "execute_result"
    }
   ],
   "source": [
    "state = np.zeros((6, 8))\n",
    "for i in range(6):\n",
    "    for j in range(8):\n",
    "        state[i][j] = j\n",
    "state"
   ]
  },
  {
   "cell_type": "markdown",
   "metadata": {},
   "source": [
    "Instead of rolling, we just replace part of the dataset with a different part of the dataset. Notice how without the roll function, the zeroes don't end up on the end."
   ]
  },
  {
   "cell_type": "code",
   "execution_count": 9,
   "metadata": {},
   "outputs": [
    {
     "data": {
      "text/plain": [
       "array([[1., 2., 3., 4., 5., 6., 7., 7.],\n",
       "       [1., 2., 3., 4., 5., 6., 7., 7.],\n",
       "       [1., 2., 3., 4., 5., 6., 7., 7.],\n",
       "       [1., 2., 3., 4., 5., 6., 7., 7.],\n",
       "       [1., 2., 3., 4., 5., 6., 7., 7.],\n",
       "       [1., 2., 3., 4., 5., 6., 7., 7.]])"
      ]
     },
     "execution_count": 9,
     "metadata": {},
     "output_type": "execute_result"
    }
   ],
   "source": [
    "state[:,:7] = state[:,1:]\n",
    "state"
   ]
  },
  {
   "cell_type": "markdown",
   "metadata": {},
   "source": [
    "If we are just going to update those fields anyway, however, perhaps we don't care about that."
   ]
  },
  {
   "cell_type": "code",
   "execution_count": 10,
   "metadata": {},
   "outputs": [
    {
     "data": {
      "text/plain": [
       "array([[1., 2., 3., 4., 5., 6., 7., 8.],\n",
       "       [1., 2., 3., 4., 5., 6., 7., 8.],\n",
       "       [1., 2., 3., 4., 5., 6., 7., 8.],\n",
       "       [1., 2., 3., 4., 5., 6., 7., 8.],\n",
       "       [1., 2., 3., 4., 5., 6., 7., 8.],\n",
       "       [1., 2., 3., 4., 5., 6., 7., 8.]])"
      ]
     },
     "execution_count": 10,
     "metadata": {},
     "output_type": "execute_result"
    }
   ],
   "source": [
    "for i in range(6):\n",
    "    for j in range(8):\n",
    "        state[i][-1] = 8\n",
    "state"
   ]
  },
  {
   "cell_type": "markdown",
   "metadata": {},
   "source": [
    "[Here's a reinforcement example](https://github.com/RunzheYang/MORL/blob/d8ce3e3ec9475940d346ee1fd5ce0da7bde1d2a7/multimario/env.py#L132) of formatting the state data using the manual strategy."
   ]
  }
 ],
 "metadata": {
  "kernelspec": {
   "display_name": "Python 3",
   "language": "python",
   "name": "python3"
  },
  "language_info": {
   "codemirror_mode": {
    "name": "ipython",
    "version": 3
   },
   "file_extension": ".py",
   "mimetype": "text/x-python",
   "name": "python",
   "nbconvert_exporter": "python",
   "pygments_lexer": "ipython3",
   "version": "3.7.5"
  }
 },
 "nbformat": 4,
 "nbformat_minor": 4
}
