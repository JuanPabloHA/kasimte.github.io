{
 "cells": [
  {
   "cell_type": "markdown",
   "metadata": {},
   "source": [
    "---\n",
    "layout: post\n",
    "title: \"How do I count numpy nans?\"\n",
    "tags: python numpy\n",
    "---"
   ]
  },
  {
   "cell_type": "markdown",
   "metadata": {},
   "source": [
    "This post demonstrates counting [numpy.nan](https://numpy.org/doc/1.18/reference/generated/numpy.isnan.html) instances in a dataset. It borrows from the answer to the stack overflow question [here](\n",
    "https://stackoverflow.com/questions/21778118/counting-the-number-of-non-nan-elements-in-a-numpy-ndarray-in-python)."
   ]
  },
  {
   "cell_type": "code",
   "execution_count": 1,
   "metadata": {},
   "outputs": [
    {
     "name": "stdout",
     "output_type": "stream",
     "text": [
      "Python 3.7.4\r\n"
     ]
    }
   ],
   "source": [
    "import numpy as np\n",
    "!python --version"
   ]
  },
  {
   "cell_type": "markdown",
   "metadata": {},
   "source": [
    "## Initialize a dataset"
   ]
  },
  {
   "cell_type": "markdown",
   "metadata": {},
   "source": [
    "First, we'll initialize a 2d array of 10000 by 10000 ones to play around with."
   ]
  },
  {
   "cell_type": "code",
   "execution_count": 2,
   "metadata": {
    "scrolled": true
   },
   "outputs": [
    {
     "data": {
      "text/plain": [
       "(array([[1., 1., 1., ..., 1., 1., 1.],\n",
       "        [1., 1., 1., ..., 1., 1., 1.],\n",
       "        [1., 1., 1., ..., 1., 1., 1.],\n",
       "        ...,\n",
       "        [1., 1., 1., ..., 1., 1., 1.],\n",
       "        [1., 1., 1., ..., 1., 1., 1.],\n",
       "        [1., 1., 1., ..., 1., 1., 1.]]), (10000, 10000))"
      ]
     },
     "execution_count": 2,
     "metadata": {},
     "output_type": "execute_result"
    }
   ],
   "source": [
    "data = np.ones((10000,10000)); data, data.shape"
   ]
  },
  {
   "cell_type": "markdown",
   "metadata": {},
   "source": [
    "## Replace random selection of 100 indicies with numpy.nan"
   ]
  },
  {
   "cell_type": "markdown",
   "metadata": {},
   "source": [
    "Next, we can take a random selection of 100 indicies using the numpy's `randint` function."
   ]
  },
  {
   "cell_type": "code",
   "execution_count": 3,
   "metadata": {},
   "outputs": [
    {
     "data": {
      "text/plain": [
       "([array([2489, 2232, 9101, 5141, 8159, 4862, 1258,  578, 3545, 6002, 2447,\n",
       "         2654, 8737, 4459, 7562, 7755,   30, 9217, 8159, 3206, 8070, 3869,\n",
       "          493,  554, 7340, 6127, 2894, 2194, 7688, 5580, 6272, 4443, 7499,\n",
       "         6647, 6391, 3980, 9350, 8889, 6701, 6119, 9408, 3741, 9822,  943,\n",
       "         3355, 6495, 4133, 3974,  767,  638, 3816, 6424, 3894, 2285, 4650,\n",
       "         1747, 4414,  934, 6903,   72, 7336, 6886, 8757, 3455, 2987, 1857,\n",
       "         8539, 4877, 7290, 2168, 8699, 3784, 1050,  419, 6522,  331, 6852,\n",
       "         6707, 5405, 6416,  804, 6580, 2666, 8495, 9113, 9860, 6967, 7874,\n",
       "         7953, 8535, 8132,  703, 8393, 5499,  882, 6343, 7166,  773, 7869,\n",
       "         4849])],\n",
       " [array([1449, 8017, 5184, 2633, 7042, 7816, 4290, 5996,  428,  729, 9694,\n",
       "         4407, 7413, 1387, 5740, 9173, 1576, 1562, 5955,  221, 7362, 7812,\n",
       "          725,  721,  475,  446, 4753, 1752, 2657, 7106, 8727, 7783, 2447,\n",
       "         6598,  849,  528, 2812, 1062, 7311, 1908, 9881, 1644, 7622, 5661,\n",
       "         2994, 6229, 9411, 9725,  453, 3844, 6221, 7172, 6114, 1270, 8570,\n",
       "          514, 3096, 1782, 6512, 7163, 2003, 1463, 8042, 4274,   25, 2756,\n",
       "         3827, 3400, 7097, 2116, 7922, 7810, 2001, 2310, 1143,   99,  755,\n",
       "         9611, 7654, 7215, 1320, 8924, 3520, 2513, 3994, 8836, 3458, 6736,\n",
       "         8653, 6721, 2790, 6165, 1782, 2814, 1164, 5302, 3506, 9960, 2816,\n",
       "         2159])])"
      ]
     },
     "execution_count": 3,
     "metadata": {},
     "output_type": "execute_result"
    }
   ],
   "source": [
    "random_rows = [np.random.randint(0,10000,100)]\n",
    "random_columns = [np.random.randint(0,10000,100)]\n",
    "random_rows, random_columns"
   ]
  },
  {
   "cell_type": "markdown",
   "metadata": {},
   "source": [
    "After we have some random indicies, populating the data with np.nan is as simple as setting it."
   ]
  },
  {
   "cell_type": "code",
   "execution_count": 4,
   "metadata": {},
   "outputs": [],
   "source": [
    "data[random_rows, random_columns] = np.nan"
   ]
  },
  {
   "cell_type": "markdown",
   "metadata": {},
   "source": [
    "## Replace randomly selected indices with np.nan"
   ]
  },
  {
   "cell_type": "markdown",
   "metadata": {},
   "source": [
    "In order to count the number of nan instances in the dataset, we can call `np.isnan` to return a mask of true / false depending on whether the data is nan. Then we can use the `np.count_nonzero` function to sum up the total."
   ]
  },
  {
   "cell_type": "code",
   "execution_count": 5,
   "metadata": {},
   "outputs": [
    {
     "data": {
      "text/plain": [
       "100"
      ]
     },
     "execution_count": 5,
     "metadata": {},
     "output_type": "execute_result"
    }
   ],
   "source": [
    "np.count_nonzero(np.isnan(data))"
   ]
  },
  {
   "cell_type": "markdown",
   "metadata": {},
   "source": [
    "Alternatively, if we inverse the true /false mask, we can count the instances that are not nan."
   ]
  },
  {
   "cell_type": "code",
   "execution_count": 6,
   "metadata": {},
   "outputs": [
    {
     "data": {
      "text/plain": [
       "99999900"
      ]
     },
     "execution_count": 6,
     "metadata": {},
     "output_type": "execute_result"
    }
   ],
   "source": [
    "np.count_nonzero(~np.isnan(data))"
   ]
  }
 ],
 "metadata": {
  "kernelspec": {
   "display_name": "Python 3",
   "language": "python",
   "name": "python3"
  },
  "language_info": {
   "codemirror_mode": {
    "name": "ipython",
    "version": 3
   },
   "file_extension": ".py",
   "mimetype": "text/x-python",
   "name": "python",
   "nbconvert_exporter": "python",
   "pygments_lexer": "ipython3",
   "version": "3.7.4"
  }
 },
 "nbformat": 4,
 "nbformat_minor": 4
}
